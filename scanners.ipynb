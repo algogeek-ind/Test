








<!DOCTYPE html>
<html lang="en">

<head>
  <meta charset="utf-8">
  <title>Jupyter Notebook Viewer</title>
  <meta name="viewport" content="width=device-width, initial-scale=1.0">
  <meta name="description" content="">
  <meta name="author" content="">
  
  <meta name="robots" content="noindex,nofollow">
  

  <!--NEW RELIC Start Perf Measurement-->
  
  <!--NREND-->

  <!-- Le styles -->
  <link href="/static/build/styles.css" rel="stylesheet">

  <!-- Le HTML5 shim, for IE6-8 support of HTML5 elements -->
  <!--[if lt IE 9]>
    <script src="http://html5shim.googlecode.com/svn/trunk/html5.js"></script>
  <![endif]-->

  <!-- Le fav and touch icons -->
  <link rel="shortcut icon" href="/static/ico/ipynb_icon_16x16.png">
  <link rel="apple-touch-icon-precomposed" sizes="144x144"
        href="/static/ico/apple-touch-icon-144-precomposed.png">
  <link rel="apple-touch-icon-precomposed" sizes="114x114"
        href="/static/ico/apple-touch-icon-114-precomposed.png">
  <link rel="apple-touch-icon-precomposed" sizes="72x72"
        href="/static/ico/apple-touch-icon-72-precomposed.png">
  <link rel="apple-touch-icon-precomposed"
        href="/static/ico/apple-touch-icon-57-precomposed.png">
  
  

  

  
  <meta name="twitter:card" content="summary">
  <meta name="twitter:title" content="Notebook on nbviewer">
  <meta name="twitter:description" content="Check out this Jupyter notebook!">

  
  <meta name="twitter:domain" content="nbviewer.jupyter.org">
  <meta name="twitter:image:src" content="http://ipython.org/ipython-doc/dev/_images/ipynb_icon_128x128.png">

  
    <link href="/static/build/notebook.css" rel="stylesheet">
  

  

  
    <script src="https://cdnjs.cloudflare.com/ajax/libs/mathjax/2.7.1/MathJax.js?config=TeX-AMS_HTML" type="text/javascript">
    </script>
    <script type="text/javascript">
      init_mathjax = function() {
        if (window.MathJax) {
          // MathJax loaded
          MathJax.Hub.Config({
            TeX: {
              equationNumbers: {
                autoNumber: "AMS",
                useLabelIds: true
              }
            },
            tex2jax: {
              inlineMath: [ ['$','$'], ["\\(","\\)"] ],
              displayMath: [ ['$$','$$'], ["\\[","\\]"] ],
              processEscapes: true,
              processEnvironments: true
            },
            displayAlign: 'center',
            "HTML-CSS": {
              styles: {'.MathJax_Display': {"margin": 0}},
              linebreaks: { automatic: true }
            }
          });
          MathJax.Hub.Queue(["Typeset", MathJax.Hub]);
        }
      }
      init_mathjax();
    </script>
  

  
    <script>
      (function() {
        function addWidgetsRenderer() {
          var mimeElement = document.querySelector('script[type="application/vnd.jupyter.widget-view+json"]');
          var scriptElement = document.createElement('script');
          var widgetRendererSrc = 'https://unpkg.com/@jupyter-widgets/html-manager@0.15/dist/embed-amd.js';
          var widgetState;

          try {
            widgetState = mimeElement && JSON.parse(mimeElement.innerHTML);

            if (widgetState && (widgetState.version_major < 2 || !widgetState.version_major)) {
              widgetRendererSrc = 'https://unpkg.com/jupyter-js-widgets@2.1/dist/embed.js';
            }
          } catch(e) {}

          scriptElement.src = widgetRendererSrc;
          document.body.appendChild(scriptElement);
        }

        document.addEventListener('DOMContentLoaded', addWidgetsRenderer);
      }());
    </script>
  

</head>

<body class="nbviewer">

  <!-- These are loaded at the top of the body so they are available to
       notebook cells when they are loaded below. -->
  <script src="/static/components/jquery/dist/jquery.min.js"></script>
  <script src="/static/components/requirejs/require.js"></script>
  <script src="/static/components/moment/min/moment.min.js"></script>
<!-- Navbar
================================================== -->
  <nav id="menubar" class="navbar navbar-default navbar-fixed-top" data-spy="affix">
    <div class="container">
      <div class="navbar-header">
        <button type="button" class="navbar-toggle collapsed" data-toggle="collapse" data-target=".navbar-collapse">
          <span class="sr-only">Toggle navigation</span>
          <i class="fa fa-bars"></i>
        </button>
        <a class="navbar-brand" href="/">
          <img src="/static/img/nav_logo.svg" width="159"/>
        </a>
      </div>

      <div class="collapse navbar-collapse">
        <ul class="nav navbar-nav navbar-right">
          <li>
            <a class="active" href="https://jupyter.org">JUPYTER</a>
          </li>
          <li>
    <a href="/faq" title="FAQ" >
      
        <span>FAQ</span>
      
    </a>
  </li>

          
  
    
  
    
      
        <li>
    <a href="script/github/erdewit/ib_insync/blob/master/notebooks/scanners.ipynb" title="View as Code" >
      <span class="fa fa-code fa-2x menu-icon"></span>
      <span class="menu-text">View as Code</span>
    </a>
  </li>
      
    
  

  
    <li>
    <a href="#" title="Python 3 Kernel" >
      <span class="fa fa-server fa-2x menu-icon"></span>
      <span class="menu-text">Python 3 Kernel</span>
    </a>
  </li>
  

  
    <li>
    <a href="https://github.com/erdewit/ib_insync/blob/master/notebooks/scanners.ipynb" title="View on GitHub" >
      <span class="fa fa-github fa-2x menu-icon"></span>
      <span class="menu-text">View on GitHub</span>
    </a>
  </li>
  

  
    <li>
    <a href="https://mybinder.org/v2/gh/erdewit/ib_insync/master?filepath=notebooks/scanners.ipynb" title="Execute on Binder" >
      <span class="fa fa-icon-binder fa-2x menu-icon"></span>
      <span class="menu-text">Execute on Binder</span>
    </a>
  </li>
  

  <li>
    <a href="https://raw.githubusercontent.com/erdewit/ib_insync/master/notebooks/scanners.ipynb" title="Download Notebook" download>
      <span class="fa fa-download fa-2x menu-icon"></span>
      <span class="menu-text">Download Notebook</span>
    </a>
  </li>

        </ul>
      </div><!-- /.navbar-collapse -->
      
      
    </div>
  </nav>

  <div class="container container-main">
    
  
  <ol class="breadcrumb">
    
      <li>
        <a href="/github/erdewit/ib_insync/tree/master">ib_insync</a>
      </li>
    
      <li>
        <a href="/github/erdewit/ib_insync/tree/master/notebooks">notebooks</a>
      </li>
    
  </ol>
  
  <div id="notebook">
    <div id="notebook-container">
      <div class="cell border-box-sizing text_cell rendered"><div class="prompt input_prompt">
</div><div class="inner_cell">
<div class="text_cell_render border-box-sizing rendered_html">
<h1 id="Scanners">Scanners<a class="anchor-link" href="#Scanners">&#182;</a></h1>
</div>
</div>
</div>
<div class="cell border-box-sizing code_cell rendered">
<div class="input">
<div class="prompt input_prompt">In&nbsp;[1]:</div>
<div class="inner_cell">
    <div class="input_area">
<div class=" highlight hl-ipython3"><pre><span></span><span class="kn">from</span> <span class="nn">ib_insync</span> <span class="kn">import</span> <span class="o">*</span>
<span class="n">util</span><span class="o">.</span><span class="n">startLoop</span><span class="p">()</span>  

<span class="n">ib</span> <span class="o">=</span> <span class="n">IB</span><span class="p">()</span>
<span class="n">ib</span><span class="o">.</span><span class="n">connect</span><span class="p">(</span><span class="s1">&#39;127.0.0.1&#39;</span><span class="p">,</span> <span class="mi">7497</span><span class="p">,</span> <span class="n">clientId</span><span class="o">=</span><span class="mi">9</span><span class="p">)</span>
</pre></div>

    </div>
</div>
</div>

<div class="output_wrapper">
<div class="output">


<div class="output_area">

    <div class="prompt output_prompt">Out[1]:</div>




<div class="output_text output_subarea output_execute_result">
<pre>&lt;IB connected to 127.0.0.1:7497 clientId=9&gt;</pre>
</div>

</div>

</div>
</div>

</div>
<div class="cell border-box-sizing text_cell rendered"><div class="prompt input_prompt">
</div><div class="inner_cell">
<div class="text_cell_render border-box-sizing rendered_html">
<h2 id="Basic-Scanner">Basic Scanner<a class="anchor-link" href="#Basic-Scanner">&#182;</a></h2><p>To create a scanner create a <code>ScannerSubscription</code> option to submit to the <code>reqScannerData</code> method. For any scanner to work it must at least have the <code>instrument</code>, <code>locationCode</code>, and <code>scanCode</code> parameters filled.</p>
<p>Additionally, the <code>ScannerSubscription</code> has other filters directly submitted like <code>abovePrice</code> and <code>aboveVolume</code>. Check <a href="https://github.com/erdewit/ib_insync/blob/master/ib_insync/objects.py">here</a> for a full list of the default filters.</p>

</div>
</div>
</div>
<div class="cell border-box-sizing code_cell rendered">
<div class="input">
<div class="prompt input_prompt">In&nbsp;[2]:</div>
<div class="inner_cell">
    <div class="input_area">
<div class=" highlight hl-ipython3"><pre><span></span><span class="n">sub</span> <span class="o">=</span> <span class="n">ScannerSubscription</span><span class="p">(</span><span class="n">instrument</span><span class="o">=</span><span class="s1">&#39;STK&#39;</span><span class="p">,</span> 
                    <span class="n">locationCode</span><span class="o">=</span><span class="s1">&#39;STK.US.MAJOR&#39;</span><span class="p">,</span> 
                    <span class="n">scanCode</span><span class="o">=</span><span class="s1">&#39;TOP_PERC_GAIN&#39;</span><span class="p">,</span> 
                    <span class="n">abovePrice</span><span class="o">=</span><span class="mi">500</span><span class="p">,</span> 
                    <span class="n">aboveVolume</span><span class="o">=</span><span class="mi">1000000</span><span class="p">,</span> 
                   <span class="p">)</span>

<span class="n">scanData</span> <span class="o">=</span> <span class="n">ib</span><span class="o">.</span><span class="n">reqScannerData</span><span class="p">(</span><span class="n">sub</span><span class="p">,</span> <span class="p">[])</span>

<span class="n">ib</span><span class="o">.</span><span class="n">sleep</span><span class="p">(</span><span class="mf">0.1</span><span class="p">)</span>
<span class="n">ib</span><span class="o">.</span><span class="n">cancelScannerSubscription</span><span class="p">(</span><span class="n">scanData</span><span class="p">)</span>
</pre></div>

    </div>
</div>
</div>

<div class="output_wrapper">
<div class="output">


<div class="output_area">

    <div class="prompt"></div>


<div class="output_subarea output_stream output_stderr output_text">
<pre>Error 162, reqId 3: Historical Market Data Service error message:API scanner subscription cancelled: 3
Error 365, reqId 3: No scanner subscription found for ticker id:3
</pre>
</div>
</div>

</div>
</div>

</div>
<div class="cell border-box-sizing text_cell rendered"><div class="prompt input_prompt">
</div><div class="inner_cell">
<div class="text_cell_render border-box-sizing rendered_html">
<p>The scanner will return a list of contracts but no other data. In this case we can only be sure that these stocks had a price over 500 and volume over 1,000,000 when the scan was performed.</p>

</div>
</div>
</div>
<div class="cell border-box-sizing text_cell rendered"><div class="prompt input_prompt">
</div><div class="inner_cell">
<div class="text_cell_render border-box-sizing rendered_html">
<p>We can loop through these contracts to find more information. For example, lets get the number of public floating shares for each contract in our scanner.</p>

</div>
</div>
</div>
<div class="cell border-box-sizing code_cell rendered">
<div class="input">
<div class="prompt input_prompt">In&nbsp;[3]:</div>
<div class="inner_cell">
    <div class="input_area">
<div class=" highlight hl-ipython3"><pre><span></span><span class="kn">from</span> <span class="nn">bs4</span> <span class="kn">import</span> <span class="n">BeautifulSoup</span>

<span class="k">def</span> <span class="nf">getFloat</span><span class="p">(</span><span class="n">contract</span><span class="p">):</span>

    <span class="n">fundamentals</span> <span class="o">=</span> <span class="n">ib</span><span class="o">.</span><span class="n">reqFundamentalData</span><span class="p">(</span><span class="n">contract</span><span class="p">,</span> <span class="s1">&#39;ReportSnapshot&#39;</span><span class="p">)</span>
    <span class="n">fundamentals</span> <span class="o">=</span> <span class="n">BeautifulSoup</span><span class="p">(</span><span class="n">fundamentals</span><span class="p">,</span> <span class="s1">&#39;xml&#39;</span><span class="p">)</span>

    <span class="n">qfloat</span> <span class="o">=</span> <span class="nb">float</span><span class="p">(</span><span class="n">fundamentals</span><span class="o">.</span><span class="n">find_all</span><span class="p">(</span><span class="s1">&#39;SharesOut&#39;</span><span class="p">)[</span><span class="mi">0</span><span class="p">][</span><span class="s1">&#39;TotalFloat&#39;</span><span class="p">])</span>
    
    <span class="k">return</span> <span class="n">qfloat</span>
    
<span class="k">for</span> <span class="n">scan</span> <span class="ow">in</span> <span class="n">scanData</span><span class="p">:</span> 
    <span class="k">try</span><span class="p">:</span> 
        <span class="n">contract</span> <span class="o">=</span> <span class="n">scan</span><span class="o">.</span><span class="n">contractDetails</span><span class="o">.</span><span class="n">contract</span>
        <span class="nb">print</span><span class="p">(</span><span class="s1">&#39;The public float for&#39;</span><span class="p">,</span><span class="n">contract</span><span class="o">.</span><span class="n">symbol</span><span class="p">,</span><span class="s1">&#39;is&#39;</span><span class="p">,</span><span class="n">getFloat</span><span class="p">(</span><span class="n">contract</span><span class="p">))</span>
    <span class="k">except</span><span class="p">:</span> 
        <span class="nb">print</span><span class="p">(</span><span class="s1">&#39;Public float not available for&#39;</span><span class="p">,</span><span class="n">contract</span><span class="o">.</span><span class="n">symbol</span><span class="p">)</span>
</pre></div>

    </div>
</div>
</div>

<div class="output_wrapper">
<div class="output">


<div class="output_area">

    <div class="prompt"></div>


<div class="output_subarea output_stream output_stdout output_text">
<pre>The public float for TSLA is 142465943.0
The public float for GOOGL is 623218570.0
</pre>
</div>
</div>

<div class="output_area">

    <div class="prompt"></div>


<div class="output_subarea output_stream output_stderr output_text">
<pre>Error 430, reqId 6: We are sorry, but fundamentals data for the security specified is not available.failed to fetch, contract: Contract(secType=&#39;STK&#39;, conId=208813720, symbol=&#39;GOOG&#39;, exchange=&#39;SMART&#39;, currency=&#39;USD&#39;, localSymbol=&#39;GOOG&#39;, tradingClass=&#39;NMS&#39;)
</pre>
</div>
</div>

<div class="output_area">

    <div class="prompt"></div>


<div class="output_subarea output_stream output_stdout output_text">
<pre>Public float not available for GOOG
The public float for AMZN is 420206723.0
</pre>
</div>
</div>

</div>
</div>

</div>
<div class="cell border-box-sizing text_cell rendered"><div class="prompt input_prompt">
</div><div class="inner_cell">
<div class="text_cell_render border-box-sizing rendered_html">
<p>As you can see, not all contracts returned by the scanner will be valid for your purposes. Make sure you include checks when processing the scanner results.</p>
<h2 id="Scanner-Parameters">Scanner Parameters<a class="anchor-link" href="#Scanner-Parameters">&#182;</a></h2><p>The scanner parameters map directly to the options available through the TWS "Advanced Market Scanner." You can check all the scanner parameters values available</p>

</div>
</div>
</div>
<div class="cell border-box-sizing code_cell rendered">
<div class="input">
<div class="prompt input_prompt">In&nbsp;[4]:</div>
<div class="inner_cell">
    <div class="input_area">
<div class=" highlight hl-ipython3"><pre><span></span><span class="n">allParams</span> <span class="o">=</span> <span class="n">ib</span><span class="o">.</span><span class="n">reqScannerParameters</span><span class="p">()</span>
<span class="nb">print</span><span class="p">(</span><span class="n">allParams</span><span class="p">[:</span><span class="mi">3000</span><span class="p">])</span> <span class="c1"># only print 3,000 characters to keep it short </span>
</pre></div>

    </div>
</div>
</div>

<div class="output_wrapper">
<div class="output">


<div class="output_area">

    <div class="prompt"></div>


<div class="output_subarea output_stream output_stdout output_text">
<pre>&lt;?xml version=&#34;1.0&#34; encoding=&#34;UTF-8&#34;?&gt;
&lt;ScanParameterResponse&gt;
	&lt;InstrumentList varName=&#34;instrumentList&#34;&gt;
		&lt;Instrument&gt;
			&lt;name&gt;US Stocks&lt;/name&gt;
			&lt;type&gt;STK&lt;/type&gt;
			&lt;filters&gt;AFTERHRSCHANGEPERC,AVGOPTVOLUME,AVGPRICETARGET,AVGRATING,AVGTARGET2PRICERATIO,AVGVOLUME,AVGVOLUME_USD,CHANGEOPENPERC,CHANGEPERC,EMA_20,EMA_50,EMA_100,EMA_200,PRICE_VS_EMA_20,PRICE_VS_EMA_50,PRICE_VS_EMA_100,PRICE_VS_EMA_200,DAYSTOCOVER,DIVIB,DIVYIELD,DIVYIELDIB,FEERATE,FIRSTTRADEDATE,GROWTHRATE,HALTED,HASOPTIONS,HISTDIVIB,HISTDIVYIELDIB,IMBALANCE,IMBALANCEADVRATIOPERC,IMPVOLAT,IMPVOLATOVERHIST,INSIDEROFFLOATPERC,INSTITUTIONALOFFLOATPERC,MACD,MACD_SIGNAL,MACD_HISTOGRAM,MKTCAP,MKTCAP_USD,NEXTDIVAMOUNT,NEXTDIVDATE,NUMPRICETARGETS,NUMRATINGS,NUMSHARESINSIDER,NUMSHARESINSTITUTIONAL,NUMSHARESSHORT,OPENGAPPERC,OPTVOLUME,OPTVOLUMEPCRATIO,PERATIO,PPO,PPO_SIGNAL,PPO_HISTOGRAM,PRICE,PRICE2BK,PRICE2TANBK,PRICERANGE,PRICE_USD,QUICKRATIO,REBATERATE,REGIMBALANCE,REGIMBALANCEADVRATIOPERC,RETEQUITY,SHORTABLESHARES,SHORTOFFLOATPERC,SHORTSALERESTRICTED,SIC,ISSUER_COUNTRY_CODE,SOCSACT,SOCSNET,STKTYPE,STVOLUME_3MIN,STVOLUME_5MIN,STVOLUME_10MIN,TRADECOUNT,TRADERATE,UNSHORTABLE,VOLUME,VOLUMERATE,VOLUME_USD,RCGLTCLASS,RCGLTENDDATE,RCGLTIVALUE,RCGLTTRADE,RCGITCLASS,RCGITENDDATE,RCGITIVALUE,RCGITTRADE,RCGSTCLASS,RCGSTENDDATE,RCGSTIVALUE,RCGSTTRADE,ESG_SCORE,ESG_COMBINED_SCORE,ESG_CONTROVERSIES_SCORE,ESG_RESOURCE_USE_SCORE,ESG_EMISSIONS_SCORE,ESG_ENV_INNOVATION_SCORE,ESG_WORKFORCE_SCORE,ESG_HUMAN_RIGHTS_SCORE,ESG_COMMUNITY_SCORE,ESG_PRODUCT_RESPONSIBILITY_SCORE,ESG_MANAGEMENT_SCORE,ESG_SHAREHOLDERS_SCORE,ESG_CSR_STRATEGY_SCORE,ESG_ENV_PILLAR_SCORE,ESG_SOCIAL_PILLAR_SCORE,ESG_CORP_GOV_PILLAR_SCORE,IV_RANK13,IV_RANK26,IV_RANK52,IV_PERCENTILE13,IV_PERCENTILE26,IV_PERCENTILE52,HV_RANK13,HV_RANK26,HV_RANK52,HV_PERCENTILE13,HV_PERCENTILE26,HV_PERCENTILE52,PRICE_2_SALES,EQUITY_PER_SHARE,UTILIZATION&lt;/filters&gt;
			&lt;group&gt;STK.GLOBAL&lt;/group&gt;
			&lt;shortName&gt;US&lt;/shortName&gt;
			&lt;cloudScanNotSupported&gt;false&lt;/cloudScanNotSupported&gt;
		&lt;/Instrument&gt;
		&lt;Instrument&gt;
			&lt;name&gt;US Equity ETFs&lt;/name&gt;
			&lt;type&gt;ETF.EQ.US&lt;/type&gt;
			&lt;secType&gt;STK&lt;/secType&gt;
			&lt;nscanSecType&gt;ETF.EQ&lt;/nscanSecType&gt;
			&lt;filters&gt;AFTERHRSCHANGEPERC,AVGOPTVOLUME,AVGPRICETARGET,AVGRATING,AVGTARGET2PRICERATIO,AVGVOLUME,AVGVOLUME_USD,CHANGEOPENPERC,CHANGEPERC,EMA_20,EMA_50,EMA_100,EMA_200,PRICE_VS_EMA_20,PRICE_VS_EMA_50,PRICE_VS_EMA_100,PRICE_VS_EMA_200,DAYSTOCOVER,DIVIB,DIVYIELD,DIVYIELDIB,FEERATE,FIRSTTRADEDATE,GROWTHRATE,HALTED,HASOPTIONS,HISTDIVIB,HISTDIVYIELDIB,IMBALANCE,IMBALANCEADVRATIOPERC,IMPVOLAT,IMPVOLATOVERHIST,INSTITUTIONALOFFLOATPERC,MKTCAP,MKTCAP_USD,NEXTDIVAMOUNT,NEXTDIVDATE,NUMPRICETARGETS,NUMRATINGS,NUMSHARESINSTITUTIONAL,NUMSHARESSHORT,OPENGAPPERC,OPTVOLUME,OPTVOLUMEPCRATIO,PRICE,PRICERANGE,PRICE_USD,REBATERATE,REGIMBALANCE,REGIMBALANCEADVRATIOPERC,RETEQUITY,SHORTABLESHARES,SHORTOFFLOATPERC,SHORTSALERESTRICTED,ISSUER_COUNTRY_CODE,SOCSACT,SOCSNET,STVOLUME_3MIN,STVOLUME_5MIN,STVOLUME_10MIN,TRADECOUNT,TRADERATE,UNSHORTABLE,VOLUME,VOLUMERATE
</pre>
</div>
</div>

</div>
</div>

</div>
<div class="cell border-box-sizing text_cell rendered"><div class="prompt input_prompt">
</div><div class="inner_cell">
<div class="text_cell_render border-box-sizing rendered_html">
<p><br>For every parameter you can see the <name> which is how it appears in TWS and the <type> which is how you would submit it to the <code>ScannerSubscription</code> object.</p>
<p>In the above example you can see that each instrument also shows you which filters are applicable to it. If we want to use any of these filter options we need to use the <code>TagValue</code> class and the <code>scannerSubscriptionFilterOptions</code> option. In this case lets use the "CHANGEPERC" filter to filter out stocks that have not moved more than 2% since yesterdays close.</p>

</div>
</div>
</div>
<div class="cell border-box-sizing code_cell rendered">
<div class="input">
<div class="prompt input_prompt">In&nbsp;[5]:</div>
<div class="inner_cell">
    <div class="input_area">
<div class=" highlight hl-ipython3"><pre><span></span><span class="n">sub</span> <span class="o">=</span> <span class="n">ScannerSubscription</span><span class="p">(</span><span class="n">instrument</span><span class="o">=</span><span class="s1">&#39;STK&#39;</span><span class="p">,</span>           <span class="c1"># Submit a scanner subscription for stocks </span>
                    <span class="n">locationCode</span><span class="o">=</span><span class="s1">&#39;STK.US.MAJOR&#39;</span><span class="p">,</span>      <span class="c1"># Use only US-Major stock exchanges</span>
                    <span class="n">scanCode</span><span class="o">=</span><span class="s1">&#39;TOP_PERC_GAIN&#39;</span><span class="p">,</span>         <span class="c1"># Use the Top % Gainers scanner code </span>
                    <span class="n">abovePrice</span><span class="o">=</span><span class="mi">5</span><span class="p">,</span>                     <span class="c1"># Any stock above $5 </span>
                    <span class="n">aboveVolume</span><span class="o">=</span><span class="mi">100000</span><span class="p">,</span>               <span class="c1"># and above 100,000 volume traded so far today </span>
                   <span class="p">)</span>

<span class="c1"># Create a list of tag values with the option and optionvalue </span>
<span class="n">tagValues</span> <span class="o">=</span> <span class="p">[</span><span class="n">TagValue</span><span class="p">(</span><span class="s2">&quot;changePercAbove&quot;</span><span class="p">,</span> <span class="s2">&quot;20&quot;</span><span class="p">)]</span>

<span class="c1"># Submit the tags when requesting the scanner data, don&#39;t forget to include the [] in the second argument</span>
<span class="n">scanData</span> <span class="o">=</span> <span class="n">ib</span><span class="o">.</span><span class="n">reqScannerData</span><span class="p">(</span><span class="n">sub</span><span class="p">,</span> <span class="p">[],</span> <span class="n">scannerSubscriptionFilterOptions</span><span class="o">=</span><span class="n">tagValues</span><span class="p">)</span>

<span class="n">ib</span><span class="o">.</span><span class="n">sleep</span><span class="p">(</span><span class="mf">0.1</span><span class="p">)</span>
<span class="n">ib</span><span class="o">.</span><span class="n">cancelScannerSubscription</span><span class="p">(</span><span class="n">scanData</span><span class="p">)</span>

<span class="c1"># Print out the sorted sumbols for the returned contracts </span>
<span class="n">symbols</span> <span class="o">=</span> <span class="p">[</span><span class="n">scan</span><span class="o">.</span><span class="n">contractDetails</span><span class="o">.</span><span class="n">contract</span><span class="o">.</span><span class="n">symbol</span> <span class="k">for</span> <span class="n">scan</span> <span class="ow">in</span> <span class="n">scanData</span><span class="p">]</span>
<span class="nb">sorted</span><span class="p">(</span><span class="n">symbols</span><span class="p">)</span>
</pre></div>

    </div>
</div>
</div>

<div class="output_wrapper">
<div class="output">


<div class="output_area">

    <div class="prompt"></div>


<div class="output_subarea output_stream output_stderr output_text">
<pre>Error 162, reqId 8: Historical Market Data Service error message:API scanner subscription cancelled: 8
</pre>
</div>
</div>

<div class="output_area">

    <div class="prompt output_prompt">Out[5]:</div>




<div class="output_text output_subarea output_execute_result">
<pre>[&#39;CRTX&#39;, &#39;GLUU&#39;, &#39;UIS&#39;]</pre>
</div>

</div>

<div class="output_area">

    <div class="prompt"></div>


<div class="output_subarea output_stream output_stderr output_text">
<pre>Error 365, reqId 8: No scanner subscription found for ticker id:8
</pre>
</div>
</div>

</div>
</div>

</div>
<div class="cell border-box-sizing text_cell rendered"><div class="prompt input_prompt">
</div><div class="inner_cell">
<div class="text_cell_render border-box-sizing rendered_html">
<p>Note that in order to submit the "CHANGEPERC" filter I had to change it.</p>
<ul>
<li>First I had to put it in <a href="https://en.wikipedia.org/wiki/Camel_case">camelCase</a> format.</li>
<li>Second, I had to add an "Above" suffix to tell the filter that I wanted everythin above that value. I could have changed this to "Below"</li>
</ul>

</div>
</div>
</div>
<div class="cell border-box-sizing text_cell rendered"><div class="prompt input_prompt">
</div><div class="inner_cell">
<div class="text_cell_render border-box-sizing rendered_html">
<p>Anything scanner you can create in TWS can be submitted through the API. The <code>scanCode</code> parameter maps directly to the "Parameter" window in the TWS "Advanced Market Scanner." We can verify this by printing out the <code>scanCode</code> values available.</p>

</div>
</div>
</div>
<div class="cell border-box-sizing code_cell rendered">
<div class="input">
<div class="prompt input_prompt">In&nbsp;[6]:</div>
<div class="inner_cell">
    <div class="input_area">
<div class=" highlight hl-ipython3"><pre><span></span><span class="n">paramSoup</span> <span class="o">=</span> <span class="n">BeautifulSoup</span><span class="p">(</span><span class="n">allParams</span><span class="p">,</span> <span class="s1">&#39;xml&#39;</span><span class="p">)</span>
<span class="p">[</span><span class="n">sc</span><span class="o">.</span><span class="n">text</span> <span class="k">for</span> <span class="n">sc</span> <span class="ow">in</span> <span class="n">paramSoup</span><span class="o">.</span><span class="n">find_all</span><span class="p">(</span><span class="s1">&#39;scanCode&#39;</span><span class="p">)[:</span><span class="mi">20</span><span class="p">]]</span> <span class="c1"># just print out 20 items for brevety</span>
</pre></div>

    </div>
</div>
</div>

<div class="output_wrapper">
<div class="output">


<div class="output_area">

    <div class="prompt output_prompt">Out[6]:</div>




<div class="output_text output_subarea output_execute_result">
<pre>[&#39;SCAN_etfAssets_DESC&#39;,
 &#39;SCAN_etfAssets_ASC&#39;,
 &#39;SCAN_etfExpense_DESC&#39;,
 &#39;SCAN_etfExpense_ASC&#39;,
 &#39;SCAN_etfALTAR_DESC&#39;,
 &#39;SCAN_etfALTAR_ASC&#39;,
 &#39;SCAN_etfAvgALTAR_DESC&#39;,
 &#39;SCAN_etfAvgALTAR_ASC&#39;,
 &#39;SCAN_etfTRytd_DESC&#39;,
 &#39;SCAN_etfTRytd_ASC&#39;,
 &#39;SCAN_etfTR1yr_DESC&#39;,
 &#39;SCAN_etfTR1yr_ASC&#39;,
 &#39;SCAN_etfTR5yr_DESC&#39;,
 &#39;SCAN_etfTR5yr_ASC&#39;,
 &#39;SCAN_etfTR10yr_DESC&#39;,
 &#39;SCAN_etfTR10yr_ASC&#39;,
 &#39;SCAN_etfTRIncep_DESC&#39;,
 &#39;SCAN_etfTRIncep_ASC&#39;,
 &#39;SCAN_etfTrackingDiffPct_DESC&#39;,
 &#39;SCAN_etfTrackingDiffPct_ASC&#39;]</pre>
</div>

</div>

</div>
</div>

</div>
<div class="cell border-box-sizing text_cell rendered"><div class="prompt input_prompt">
</div><div class="inner_cell">
<div class="text_cell_render border-box-sizing rendered_html">
<h2 id="Other-Products">Other Products<a class="anchor-link" href="#Other-Products">&#182;</a></h2><p>You are not limited to stocks.</p>

</div>
</div>
</div>
<div class="cell border-box-sizing code_cell rendered">
<div class="input">
<div class="prompt input_prompt">In&nbsp;[7]:</div>
<div class="inner_cell">
    <div class="input_area">
<div class=" highlight hl-ipython3"><pre><span></span><span class="p">[</span><span class="n">i</span><span class="o">.</span><span class="n">find_all</span><span class="p">(</span><span class="s1">&#39;name&#39;</span><span class="p">)[</span><span class="mi">0</span><span class="p">]</span><span class="o">.</span><span class="n">text</span> <span class="k">for</span> <span class="n">i</span> <span class="ow">in</span> <span class="n">paramSoup</span><span class="o">.</span><span class="n">find_all</span><span class="p">(</span><span class="s1">&#39;Instrument&#39;</span><span class="p">)][:</span><span class="mi">10</span><span class="p">]</span>
</pre></div>

    </div>
</div>
</div>

<div class="output_wrapper">
<div class="output">


<div class="output_area">

    <div class="prompt output_prompt">Out[7]:</div>




<div class="output_text output_subarea output_execute_result">
<pre>[&#39;US Stocks&#39;,
 &#39;US Equity ETFs&#39;,
 &#39;US Fixed Income ETFs&#39;,
 &#39;US Futures&#39;,
 &#39;US Indexes&#39;,
 &#39;US SSFs&#39;,
 &#39;Corporate Bonds&#39;,
 &#39;US CDs&#39;,
 &#39;US Agency Bonds&#39;,
 &#39;US Treasuries&#39;]</pre>
</div>

</div>

</div>
</div>

</div>
<div class="cell border-box-sizing code_cell rendered">
<div class="input">
<div class="prompt input_prompt">In&nbsp;[8]:</div>
<div class="inner_cell">
    <div class="input_area">
<div class=" highlight hl-ipython3"><pre><span></span><span class="n">sub</span> <span class="o">=</span> <span class="n">ScannerSubscription</span><span class="p">(</span><span class="n">instrument</span><span class="o">=</span><span class="s1">&#39;FUT.US&#39;</span><span class="p">,</span>
                          <span class="n">locationCode</span><span class="o">=</span><span class="s1">&#39;FUT.GLOBEX&#39;</span><span class="p">,</span> 
                          <span class="n">scanCode</span><span class="o">=</span><span class="s1">&#39;MOST_ACTIVE&#39;</span><span class="p">)</span>

<span class="n">scanData</span> <span class="o">=</span> <span class="n">ib</span><span class="o">.</span><span class="n">reqScannerData</span><span class="p">(</span><span class="n">sub</span><span class="p">,</span> <span class="p">[])</span>
<span class="n">contracts</span> <span class="o">=</span> <span class="p">[</span><span class="n">scan</span><span class="o">.</span><span class="n">contractDetails</span><span class="o">.</span><span class="n">contract</span> <span class="k">for</span> <span class="n">scan</span> <span class="ow">in</span> <span class="n">scanData</span><span class="p">]</span>
<span class="n">contracts</span><span class="p">[:</span><span class="mi">5</span><span class="p">]</span>
</pre></div>

    </div>
</div>
</div>

<div class="output_wrapper">
<div class="output">


<div class="output_area">

    <div class="prompt output_prompt">Out[8]:</div>




<div class="output_text output_subarea output_execute_result">
<pre>[Contract(secType=&#39;FUT&#39;, conId=346577697, symbol=&#39;ES&#39;, lastTradeDateOrContractMonth=&#39;20200320&#39;, exchange=&#39;GLOBEX&#39;, currency=&#39;USD&#39;, localSymbol=&#39;ESH0&#39;, tradingClass=&#39;ES&#39;),
 Contract(secType=&#39;FUT&#39;, conId=346577750, symbol=&#39;NQ&#39;, lastTradeDateOrContractMonth=&#39;20200320&#39;, exchange=&#39;GLOBEX&#39;, currency=&#39;USD&#39;, localSymbol=&#39;NQH0&#39;, tradingClass=&#39;NQ&#39;),
 Contract(secType=&#39;FUT&#39;, conId=362698381, symbol=&#39;MES&#39;, lastTradeDateOrContractMonth=&#39;20200320&#39;, exchange=&#39;GLOBEX&#39;, currency=&#39;USD&#39;, localSymbol=&#39;MESH0&#39;, tradingClass=&#39;MES&#39;),
 Contract(secType=&#39;FUT&#39;, conId=362702255, symbol=&#39;MNQ&#39;, lastTradeDateOrContractMonth=&#39;20200320&#39;, exchange=&#39;GLOBEX&#39;, currency=&#39;USD&#39;, localSymbol=&#39;MNQH0&#39;, tradingClass=&#39;MNQ&#39;),
 Contract(secType=&#39;FUT&#39;, conId=82252724, symbol=&#39;GE&#39;, lastTradeDateOrContractMonth=&#39;20201214&#39;, exchange=&#39;GLOBEX&#39;, currency=&#39;USD&#39;, localSymbol=&#39;GEZ0&#39;, tradingClass=&#39;GE&#39;)]</pre>
</div>

</div>

<div class="output_area">

    <div class="prompt"></div>


<div class="output_subarea output_stream output_stderr output_text">
<pre>Error 162, reqId 9: Historical Market Data Service error message:API scanner subscription cancelled: 9
</pre>
</div>
</div>

</div>
</div>

</div>
<div class="cell border-box-sizing code_cell rendered">
<div class="input">
<div class="prompt input_prompt">In&nbsp;[9]:</div>
<div class="inner_cell">
    <div class="input_area">
<div class=" highlight hl-ipython3"><pre><span></span><span class="n">ib</span><span class="o">.</span><span class="n">disconnect</span><span class="p">()</span>
</pre></div>

    </div>
</div>
</div>

</div>
 


    </div>
  </div>

  </div>


  
    <footer class="footer hidden-print">
      <div class="container">
        <div class="col-md-4">
          <p>
            This website does not host notebooks, it only renders notebooks
            available on other websites.
          </p>
        </div>

        <div class="col-md-4">
          <p>
            Delivered by <a href="https://www.fastly.com/">Fastly</a>,
            Rendered by <a href="https://ovhcloud.com">OVHCloud</a>
          </p>
          <p>
            nbviewer GitHub <a href="https://github.com/jupyter/nbviewer">repository</a>.
          </p>
        </div>

        <div class="col-md-4">
          
  
            
              <p>
                nbviewer version:
                <a href="https://github.com/jupyter/nbviewer/commit/e83752b49e1663d3feb1c157d31fb51451f11c0a">
                  e83752b
                </a>
              </p>
            
          
  
  <p>
    nbconvert version: <a href="https://github.com/jupyter/nbconvert/releases/tag/5.6.1">
      5.6.1
    </a>
  </p>
  

          
  
  
  <p>
    Rendered
    <span class='date' data-date='Thu, 02 Apr 2020 05:09:28 UTC' title='Thu, 02 Apr 2020 05:09:28 UTC'>(Thu, 02 Apr 2020 05:09:28 UTC)</span>
  </p>
  

        </div>
      </div>
    </footer>
  

  <script src="/static/components/bootstrap/js/bootstrap.min.js"></script>
  <script src="/static/components/headroom.js/dist/headroom.min.js"></script>
  <script src="/static/components/headroom.js/dist/jQuery.headroom.min.js"></script>

  
  
  <script>
    $(function(){ $("#menubar").headroom({
      tolerance: 5,
      offset: 205,
      classes: {
        initial: "animated",
        pinned: "slideInDown",
        unpinned: "slideOutUp"
      }
    })});
  </script>


  
  <script>
    (function(i,s,o,g,r,a,m){i['GoogleAnalyticsObject']=r;i[r]=i[r]||function(){
      (i[r].q=i[r].q||[]).push(arguments)},i[r].l=1*new Date();a=s.createElement(o),
      m=s.getElementsByTagName(o)[0];a.async=1;a.src=g;m.parentNode.insertBefore(a,m)
    })(window,document,'script','https://www.google-analytics.com/analytics.js','ga');
    ga('create', 'UA-52617120-5', 'auto',
       {'storage': 'none'});
    ga('set', 'anonymizeIp', true);
    ga('send', 'pageview');
  </script>
  
  <script>
    require({
        paths: {
          moment: "/static/components/moment/min/moment.min.js"
        }
      }, ["moment"], function(moment){
      var date = $("footer .date"),
        m = moment(new Date(date.data('date'))),
        update = function(){ date.text(m.fromNow()); };
      setInterval(update, 61*1000);
      update();
      var w = $(window).scroll(function(event){
        $("body").toggleClass("scrolled", w.scrollTop() > 0);
      });
    });
  </script>

  <!--NEW RELIC Stop Perf Measurement-->
  
  <!--NEW RELIC End-->
</body>
</html>